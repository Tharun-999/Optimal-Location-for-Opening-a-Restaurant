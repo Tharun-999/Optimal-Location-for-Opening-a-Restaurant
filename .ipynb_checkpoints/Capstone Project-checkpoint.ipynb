{
 "cells": [
  {
   "cell_type": "markdown",
   "metadata": {},
   "source": [
    "Clearly define a problem or an idea of your choice, where you would need to leverage the Foursquare location data to solve or execute. Remember that data science problems always target an audience and are meant to help a group of stakeholders solve a problem, so make sure that you explicitly describe your audience and why they would care about your problem."
   ]
  },
  {
   "cell_type": "markdown",
   "metadata": {},
   "source": [
    "**Introduction/Business Problem:**\n",
    "\n",
    "While opening a resturant can be a very lucrative business, a lack of demand causes many resturants to close within the first year of opening. There are many different factors that can account for a resturant's success such as location, competition,and quality of the food. \n",
    "\n",
    "The goal of this project is to use the Foursquare API to determine the optimal location to open an Indian Restaurant. For Indian Restaurant specifically, location and competition are both determined by where the restaurant will be opened. If there are too many Indian Restaurants in the local vicinity, the profitability of the restaurant will be severily decreased. Additionally, starting a restaurant in a location with higher income would increase the profitability of the business over starting in a poorer area. \n",
    "\n",
    "**Business Problem:**\n",
    "If the client wanted to open an Indian Restaurant in Toronto, what areas are the best options to open the restaurant?"
   ]
  },
  {
   "cell_type": "markdown",
   "metadata": {},
   "source": [
    "**Data:**\n",
    "\n",
    "I will use Foursquare API to determine the average house price in different neighborhoods (used to estimate the average income of the inhabitants), population distribution of each area, the number of Indian Restaurant in each neighborhood and the number of total restaurant in each neighborhood. The data will then be used to cluster different postal codes to determine the optimal location to open the restaurant."
   ]
  },
  {
   "cell_type": "code",
   "execution_count": null,
   "metadata": {},
   "outputs": [],
   "source": []
  }
 ],
 "metadata": {
  "kernelspec": {
   "display_name": "Python 3",
   "language": "python",
   "name": "python3"
  },
  "language_info": {
   "codemirror_mode": {
    "name": "ipython",
    "version": 3
   },
   "file_extension": ".py",
   "mimetype": "text/x-python",
   "name": "python",
   "nbconvert_exporter": "python",
   "pygments_lexer": "ipython3",
   "version": "3.6.7"
  }
 },
 "nbformat": 4,
 "nbformat_minor": 2
}
